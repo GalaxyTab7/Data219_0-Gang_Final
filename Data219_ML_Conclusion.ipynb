{
  "nbformat": 4,
  "nbformat_minor": 0,
  "metadata": {
    "colab": {
      "provenance": [],
      "collapsed_sections": [
        "O_sKCI0dy5B0",
        "CEONzAzJzj3o"
      ],
      "authorship_tag": "ABX9TyNRS2JoKWUBd76OyHErSEbG",
      "include_colab_link": true
    },
    "kernelspec": {
      "name": "python3",
      "display_name": "Python 3"
    },
    "language_info": {
      "name": "python"
    }
  },
  "cells": [
    {
      "cell_type": "markdown",
      "metadata": {
        "id": "view-in-github",
        "colab_type": "text"
      },
      "source": [
        "<a href=\"https://colab.research.google.com/github/GalaxyTab7/Data219_0-Gang_Final/blob/main/Data219_ML_Conclusion.ipynb\" target=\"_parent\"><img src=\"https://colab.research.google.com/assets/colab-badge.svg\" alt=\"Open In Colab\"/></a>"
      ]
    },
    {
      "cell_type": "markdown",
      "source": [
        "# ML Intro"
      ],
      "metadata": {
        "id": "HRKI5OKjy3HF"
      }
    },
    {
      "cell_type": "markdown",
      "source": [
        "With the analysis complete, we can now begin testing models, parameters, and hyperparameters until we find a model that predicts the 2023 'DF' score with the lowest absolute mean error.\n",
        "\n",
        "The factors used during the testing/tuning process:\n",
        "- 2022 'DF' score\n",
        "- age\n",
        "- years playing\n",
        "- bio\n",
        "- win rate\n",
        "- total series/fights using top character\n",
        "- global ranking in 2022\n",
        "- matches\n",
        "- most played character\n",
        "\n",
        "The models to be tested/tuned:\n",
        "- KNN regressor\n",
        "- Bayesian ridge regressor\n",
        "- Linear regressor\n",
        "- Decesion Tree regressor\n",
        "\n",
        "Unfortunately, only 243 points in the dataset have a valid 2023 df score. Consequently, these 243 points will be used for testing/tuning."
      ],
      "metadata": {
        "id": "c77c_UmHzOX-"
      }
    },
    {
      "cell_type": "markdown",
      "source": [
        "# Dependencies and Imports"
      ],
      "metadata": {
        "id": "O_sKCI0dy5B0"
      }
    },
    {
      "cell_type": "code",
      "execution_count": null,
      "metadata": {
        "id": "mJJzs8jbyhdt"
      },
      "outputs": [],
      "source": [
        "#Dependicies/Imports\n",
        "import pandas as pd\n",
        "import numpy as np\n",
        "import plotly.express as px\n",
        "import scipy.stats as stats\n",
        "import re\n",
        "import itertools\n",
        "from sklearn.preprocessing import OneHotEncoder, StandardScaler\n",
        "from sklearn.feature_extraction.text import TfidfVectorizer\n",
        "from sklearn.compose import make_column_transformer\n",
        "from sklearn.pipeline import make_pipeline\n",
        "from sklearn.neighbors import KNeighborsRegressor\n",
        "from sklearn.model_selection import cross_val_score\n",
        "from sklearn.feature_extraction.text import CountVectorizer\n",
        "from sklearn.linear_model import LinearRegression\n",
        "from sklearn.tree import DecisionTreeRegressor\n",
        "from sklearn.linear_model import BayesianRidge\n",
        "pd.options.mode.chained_assignment = None"
      ]
    },
    {
      "cell_type": "markdown",
      "source": [
        "# Loading In Data"
      ],
      "metadata": {
        "id": "CEONzAzJzj3o"
      }
    },
    {
      "cell_type": "code",
      "source": [
        "data = pd.read_csv(\"https://raw.githubusercontent.com/GalaxyTab7/Data219FinalProject/main/Cleaned_Data\" , encoding = 'utf-8')\n",
        "data_with_df = pd.read_csv(\"https://raw.githubusercontent.com/GalaxyTab7/Data219FinalProject/main/Cleaned_Training_Data\" , encoding = 'utf-8')"
      ],
      "metadata": {
        "id": "W7Dl0YdfzpMN"
      },
      "execution_count": null,
      "outputs": []
    },
    {
      "cell_type": "markdown",
      "source": [
        "# Identifying Models and Parameters"
      ],
      "metadata": {
        "id": "k1ZWoZgLz-my"
      }
    },
    {
      "cell_type": "markdown",
      "source": [
        "First, we are going to transform the data by standardizing the quantitative features, dummy-encoding the 'top_character' feature, and using a TFIDF vec on the 'bio' feature."
      ],
      "metadata": {
        "id": "da0jkdWf0CzA"
      }
    },
    {
      "cell_type": "code",
      "source": [
        "#Transform the data\n",
        "scaler = StandardScaler()\n",
        "dummy = OneHotEncoder()\n",
        "TFIDF = TfidfVectorizer()\n",
        "\n",
        "num = scaler.fit_transform(data_with_df[['DF_2022','age','years_playing','win_rate','Global_2022','num_games_with_top_char']])\n",
        "encod = dummy.fit_transform(data_with_df[['top_character']])\n",
        "vec = TFIDF.fit_transform(data_with_df[['bio']])\n",
        "\n",
        "\n",
        "numDf = pd.DataFrame(num , columns = scaler.get_feature_names_out())\n",
        "encodDf = pd.DataFrame(encod.todense() , columns = dummy.get_feature_names_out())\n",
        "vecDf = pd.DataFrame(vec.todense() , columns = TFIDF.get_feature_names_out())\n",
        "\n",
        "list_topChar = [value for value in dummy.get_feature_names_out()]\n",
        "list_bio = [value for value in TFIDF.get_feature_names_out()]\n",
        "\n",
        "clean_df = pd.concat((numDf,encodDf,vecDf) , axis = 1)\n",
        "clean_df['Df_2023'] = data_with_df['Df_2023'].values\n",
        "clean_df = clean_df.fillna(0)"
      ],
      "metadata": {
        "id": "_Xuy_q_l0JAH"
      },
      "execution_count": null,
      "outputs": []
    },
    {
      "cell_type": "markdown",
      "source": [
        "Now, we are going to find which combination of features leads to the lowest absolute mean error for each of the models to be tested. This will also help to identify which model is best to use."
      ],
      "metadata": {
        "id": "PHOuTRX30Kpx"
      }
    },
    {
      "cell_type": "code",
      "source": [
        "#This code gets all possible combinations of all possible sizes from the list of factors\n",
        "list_features = ['DF_2022','age','years_playing','win_rate','Global_2022','num_games_with_top_char','has_bio','has_top_char']\n",
        "\n",
        "dict_result = {}\n",
        "for n in range(1,len(list_features)):\n",
        "  result = [value for value in itertools.combinations(list_features , n)]\n",
        "  dict_result[n] = result\n",
        "\n",
        "#This loop finds the cross val score for all the combinations of all possible sizes\n",
        "#from the list of factors for each model being tested.\n",
        "dict_results = {}\n",
        "for row,list_combinations in dict_result.items():\n",
        "  for (col_combo) in  list_combinations:\n",
        "    list_add = []\n",
        "    list_argue = []\n",
        "    list_key = []\n",
        "    for col in col_combo:\n",
        "      if col == 'has_bio':\n",
        "        list_key.append('bio')\n",
        "        for value in list_bio:\n",
        "          list_argue.append(value)\n",
        "      elif col == 'has_top_char':\n",
        "        list_key.append('top_character')\n",
        "        for value in list_topChar:\n",
        "          list_argue.append(value)\n",
        "      else:\n",
        "        list_key.append(col)\n",
        "        list_argue.append(col)\n",
        "\n",
        "    print(list_key)\n",
        "\n",
        "    #Set x and y\n",
        "    x = clean_df[list_argue]\n",
        "    y = clean_df['Df_2023']\n",
        "\n",
        "    #Initialize the sckitlearn stuff\n",
        "    Knn = KNeighborsRegressor()\n",
        "    Bae = BayesianRidge()\n",
        "    Lin = LinearRegression()\n",
        "    Monke = DecisionTreeRegressor()\n",
        "\n",
        "    #Get cross val scores\n",
        "    knn_score = cross_val_score(Knn, X=x , y=y , cv = 10 , scoring = 'neg_mean_absolute_error')\n",
        "    bae_score = cross_val_score(Bae, X=x, y=y , cv = 10 , scoring = 'neg_mean_absolute_error' )\n",
        "    lin_score = cross_val_score(Lin, X=x , y=y , cv = 10 , scoring = 'neg_mean_absolute_error')\n",
        "    monke_score = cross_val_score(Monke, X=x , y=y , cv = 10 , scoring = 'neg_mean_absolute_error')\n",
        "\n",
        "    #Append results\n",
        "    list_add.append(-knn_score.mean())\n",
        "    list_add.append(-bae_score.mean())\n",
        "    list_add.append(-lin_score.mean())\n",
        "    list_add.append(-monke_score.mean())\n",
        "    dict_results[str(list_key)] = list_add\n",
        "\n",
        "#Make result into a dataframe\n",
        "result = pd.DataFrame.from_dict(dict_results,orient='index',columns=['KNN','BAE','LIN',\"MONKE\"])\n",
        "print(\"All done\")"
      ],
      "metadata": {
        "colab": {
          "base_uri": "https://localhost:8080/"
        },
        "id": "AON8qnIm0MLv",
        "outputId": "18a33f44-8426-4223-846c-8c919d915cc6"
      },
      "execution_count": null,
      "outputs": [
        {
          "output_type": "stream",
          "name": "stdout",
          "text": [
            "['DF_2022']\n",
            "['age']\n",
            "['years_playing']\n",
            "['win_rate']\n",
            "['Global_2022']\n",
            "['num_games_with_top_char']\n",
            "['bio']\n",
            "['top_character']\n",
            "['DF_2022', 'age']\n",
            "['DF_2022', 'years_playing']\n",
            "['DF_2022', 'win_rate']\n",
            "['DF_2022', 'Global_2022']\n",
            "['DF_2022', 'num_games_with_top_char']\n",
            "['DF_2022', 'bio']\n",
            "['DF_2022', 'top_character']\n",
            "['age', 'years_playing']\n",
            "['age', 'win_rate']\n",
            "['age', 'Global_2022']\n",
            "['age', 'num_games_with_top_char']\n",
            "['age', 'bio']\n",
            "['age', 'top_character']\n",
            "['years_playing', 'win_rate']\n",
            "['years_playing', 'Global_2022']\n",
            "['years_playing', 'num_games_with_top_char']\n",
            "['years_playing', 'bio']\n",
            "['years_playing', 'top_character']\n",
            "['win_rate', 'Global_2022']\n",
            "['win_rate', 'num_games_with_top_char']\n",
            "['win_rate', 'bio']\n",
            "['win_rate', 'top_character']\n",
            "['Global_2022', 'num_games_with_top_char']\n",
            "['Global_2022', 'bio']\n",
            "['Global_2022', 'top_character']\n",
            "['num_games_with_top_char', 'bio']\n",
            "['num_games_with_top_char', 'top_character']\n",
            "['bio', 'top_character']\n",
            "['DF_2022', 'age', 'years_playing']\n",
            "['DF_2022', 'age', 'win_rate']\n",
            "['DF_2022', 'age', 'Global_2022']\n",
            "['DF_2022', 'age', 'num_games_with_top_char']\n",
            "['DF_2022', 'age', 'bio']\n",
            "['DF_2022', 'age', 'top_character']\n",
            "['DF_2022', 'years_playing', 'win_rate']\n",
            "['DF_2022', 'years_playing', 'Global_2022']\n",
            "['DF_2022', 'years_playing', 'num_games_with_top_char']\n",
            "['DF_2022', 'years_playing', 'bio']\n",
            "['DF_2022', 'years_playing', 'top_character']\n",
            "['DF_2022', 'win_rate', 'Global_2022']\n",
            "['DF_2022', 'win_rate', 'num_games_with_top_char']\n",
            "['DF_2022', 'win_rate', 'bio']\n",
            "['DF_2022', 'win_rate', 'top_character']\n",
            "['DF_2022', 'Global_2022', 'num_games_with_top_char']\n",
            "['DF_2022', 'Global_2022', 'bio']\n",
            "['DF_2022', 'Global_2022', 'top_character']\n",
            "['DF_2022', 'num_games_with_top_char', 'bio']\n",
            "['DF_2022', 'num_games_with_top_char', 'top_character']\n",
            "['DF_2022', 'bio', 'top_character']\n",
            "['age', 'years_playing', 'win_rate']\n",
            "['age', 'years_playing', 'Global_2022']\n",
            "['age', 'years_playing', 'num_games_with_top_char']\n",
            "['age', 'years_playing', 'bio']\n",
            "['age', 'years_playing', 'top_character']\n",
            "['age', 'win_rate', 'Global_2022']\n",
            "['age', 'win_rate', 'num_games_with_top_char']\n",
            "['age', 'win_rate', 'bio']\n",
            "['age', 'win_rate', 'top_character']\n",
            "['age', 'Global_2022', 'num_games_with_top_char']\n",
            "['age', 'Global_2022', 'bio']\n",
            "['age', 'Global_2022', 'top_character']\n",
            "['age', 'num_games_with_top_char', 'bio']\n",
            "['age', 'num_games_with_top_char', 'top_character']\n",
            "['age', 'bio', 'top_character']\n",
            "['years_playing', 'win_rate', 'Global_2022']\n",
            "['years_playing', 'win_rate', 'num_games_with_top_char']\n",
            "['years_playing', 'win_rate', 'bio']\n",
            "['years_playing', 'win_rate', 'top_character']\n",
            "['years_playing', 'Global_2022', 'num_games_with_top_char']\n",
            "['years_playing', 'Global_2022', 'bio']\n",
            "['years_playing', 'Global_2022', 'top_character']\n",
            "['years_playing', 'num_games_with_top_char', 'bio']\n",
            "['years_playing', 'num_games_with_top_char', 'top_character']\n",
            "['years_playing', 'bio', 'top_character']\n",
            "['win_rate', 'Global_2022', 'num_games_with_top_char']\n",
            "['win_rate', 'Global_2022', 'bio']\n",
            "['win_rate', 'Global_2022', 'top_character']\n",
            "['win_rate', 'num_games_with_top_char', 'bio']\n",
            "['win_rate', 'num_games_with_top_char', 'top_character']\n",
            "['win_rate', 'bio', 'top_character']\n",
            "['Global_2022', 'num_games_with_top_char', 'bio']\n",
            "['Global_2022', 'num_games_with_top_char', 'top_character']\n",
            "['Global_2022', 'bio', 'top_character']\n",
            "['num_games_with_top_char', 'bio', 'top_character']\n",
            "['DF_2022', 'age', 'years_playing', 'win_rate']\n",
            "['DF_2022', 'age', 'years_playing', 'Global_2022']\n",
            "['DF_2022', 'age', 'years_playing', 'num_games_with_top_char']\n",
            "['DF_2022', 'age', 'years_playing', 'bio']\n",
            "['DF_2022', 'age', 'years_playing', 'top_character']\n",
            "['DF_2022', 'age', 'win_rate', 'Global_2022']\n",
            "['DF_2022', 'age', 'win_rate', 'num_games_with_top_char']\n",
            "['DF_2022', 'age', 'win_rate', 'bio']\n",
            "['DF_2022', 'age', 'win_rate', 'top_character']\n",
            "['DF_2022', 'age', 'Global_2022', 'num_games_with_top_char']\n",
            "['DF_2022', 'age', 'Global_2022', 'bio']\n",
            "['DF_2022', 'age', 'Global_2022', 'top_character']\n",
            "['DF_2022', 'age', 'num_games_with_top_char', 'bio']\n",
            "['DF_2022', 'age', 'num_games_with_top_char', 'top_character']\n",
            "['DF_2022', 'age', 'bio', 'top_character']\n",
            "['DF_2022', 'years_playing', 'win_rate', 'Global_2022']\n",
            "['DF_2022', 'years_playing', 'win_rate', 'num_games_with_top_char']\n",
            "['DF_2022', 'years_playing', 'win_rate', 'bio']\n",
            "['DF_2022', 'years_playing', 'win_rate', 'top_character']\n",
            "['DF_2022', 'years_playing', 'Global_2022', 'num_games_with_top_char']\n",
            "['DF_2022', 'years_playing', 'Global_2022', 'bio']\n",
            "['DF_2022', 'years_playing', 'Global_2022', 'top_character']\n",
            "['DF_2022', 'years_playing', 'num_games_with_top_char', 'bio']\n",
            "['DF_2022', 'years_playing', 'num_games_with_top_char', 'top_character']\n",
            "['DF_2022', 'years_playing', 'bio', 'top_character']\n",
            "['DF_2022', 'win_rate', 'Global_2022', 'num_games_with_top_char']\n",
            "['DF_2022', 'win_rate', 'Global_2022', 'bio']\n",
            "['DF_2022', 'win_rate', 'Global_2022', 'top_character']\n",
            "['DF_2022', 'win_rate', 'num_games_with_top_char', 'bio']\n",
            "['DF_2022', 'win_rate', 'num_games_with_top_char', 'top_character']\n",
            "['DF_2022', 'win_rate', 'bio', 'top_character']\n",
            "['DF_2022', 'Global_2022', 'num_games_with_top_char', 'bio']\n",
            "['DF_2022', 'Global_2022', 'num_games_with_top_char', 'top_character']\n",
            "['DF_2022', 'Global_2022', 'bio', 'top_character']\n",
            "['DF_2022', 'num_games_with_top_char', 'bio', 'top_character']\n",
            "['age', 'years_playing', 'win_rate', 'Global_2022']\n",
            "['age', 'years_playing', 'win_rate', 'num_games_with_top_char']\n",
            "['age', 'years_playing', 'win_rate', 'bio']\n",
            "['age', 'years_playing', 'win_rate', 'top_character']\n",
            "['age', 'years_playing', 'Global_2022', 'num_games_with_top_char']\n",
            "['age', 'years_playing', 'Global_2022', 'bio']\n",
            "['age', 'years_playing', 'Global_2022', 'top_character']\n",
            "['age', 'years_playing', 'num_games_with_top_char', 'bio']\n",
            "['age', 'years_playing', 'num_games_with_top_char', 'top_character']\n",
            "['age', 'years_playing', 'bio', 'top_character']\n",
            "['age', 'win_rate', 'Global_2022', 'num_games_with_top_char']\n",
            "['age', 'win_rate', 'Global_2022', 'bio']\n",
            "['age', 'win_rate', 'Global_2022', 'top_character']\n",
            "['age', 'win_rate', 'num_games_with_top_char', 'bio']\n",
            "['age', 'win_rate', 'num_games_with_top_char', 'top_character']\n",
            "['age', 'win_rate', 'bio', 'top_character']\n",
            "['age', 'Global_2022', 'num_games_with_top_char', 'bio']\n",
            "['age', 'Global_2022', 'num_games_with_top_char', 'top_character']\n",
            "['age', 'Global_2022', 'bio', 'top_character']\n",
            "['age', 'num_games_with_top_char', 'bio', 'top_character']\n",
            "['years_playing', 'win_rate', 'Global_2022', 'num_games_with_top_char']\n",
            "['years_playing', 'win_rate', 'Global_2022', 'bio']\n",
            "['years_playing', 'win_rate', 'Global_2022', 'top_character']\n",
            "['years_playing', 'win_rate', 'num_games_with_top_char', 'bio']\n",
            "['years_playing', 'win_rate', 'num_games_with_top_char', 'top_character']\n",
            "['years_playing', 'win_rate', 'bio', 'top_character']\n",
            "['years_playing', 'Global_2022', 'num_games_with_top_char', 'bio']\n",
            "['years_playing', 'Global_2022', 'num_games_with_top_char', 'top_character']\n",
            "['years_playing', 'Global_2022', 'bio', 'top_character']\n",
            "['years_playing', 'num_games_with_top_char', 'bio', 'top_character']\n",
            "['win_rate', 'Global_2022', 'num_games_with_top_char', 'bio']\n",
            "['win_rate', 'Global_2022', 'num_games_with_top_char', 'top_character']\n",
            "['win_rate', 'Global_2022', 'bio', 'top_character']\n",
            "['win_rate', 'num_games_with_top_char', 'bio', 'top_character']\n",
            "['Global_2022', 'num_games_with_top_char', 'bio', 'top_character']\n",
            "['DF_2022', 'age', 'years_playing', 'win_rate', 'Global_2022']\n",
            "['DF_2022', 'age', 'years_playing', 'win_rate', 'num_games_with_top_char']\n",
            "['DF_2022', 'age', 'years_playing', 'win_rate', 'bio']\n",
            "['DF_2022', 'age', 'years_playing', 'win_rate', 'top_character']\n",
            "['DF_2022', 'age', 'years_playing', 'Global_2022', 'num_games_with_top_char']\n",
            "['DF_2022', 'age', 'years_playing', 'Global_2022', 'bio']\n",
            "['DF_2022', 'age', 'years_playing', 'Global_2022', 'top_character']\n",
            "['DF_2022', 'age', 'years_playing', 'num_games_with_top_char', 'bio']\n",
            "['DF_2022', 'age', 'years_playing', 'num_games_with_top_char', 'top_character']\n",
            "['DF_2022', 'age', 'years_playing', 'bio', 'top_character']\n",
            "['DF_2022', 'age', 'win_rate', 'Global_2022', 'num_games_with_top_char']\n",
            "['DF_2022', 'age', 'win_rate', 'Global_2022', 'bio']\n",
            "['DF_2022', 'age', 'win_rate', 'Global_2022', 'top_character']\n",
            "['DF_2022', 'age', 'win_rate', 'num_games_with_top_char', 'bio']\n",
            "['DF_2022', 'age', 'win_rate', 'num_games_with_top_char', 'top_character']\n",
            "['DF_2022', 'age', 'win_rate', 'bio', 'top_character']\n",
            "['DF_2022', 'age', 'Global_2022', 'num_games_with_top_char', 'bio']\n",
            "['DF_2022', 'age', 'Global_2022', 'num_games_with_top_char', 'top_character']\n",
            "['DF_2022', 'age', 'Global_2022', 'bio', 'top_character']\n",
            "['DF_2022', 'age', 'num_games_with_top_char', 'bio', 'top_character']\n",
            "['DF_2022', 'years_playing', 'win_rate', 'Global_2022', 'num_games_with_top_char']\n",
            "['DF_2022', 'years_playing', 'win_rate', 'Global_2022', 'bio']\n",
            "['DF_2022', 'years_playing', 'win_rate', 'Global_2022', 'top_character']\n",
            "['DF_2022', 'years_playing', 'win_rate', 'num_games_with_top_char', 'bio']\n",
            "['DF_2022', 'years_playing', 'win_rate', 'num_games_with_top_char', 'top_character']\n",
            "['DF_2022', 'years_playing', 'win_rate', 'bio', 'top_character']\n",
            "['DF_2022', 'years_playing', 'Global_2022', 'num_games_with_top_char', 'bio']\n",
            "['DF_2022', 'years_playing', 'Global_2022', 'num_games_with_top_char', 'top_character']\n",
            "['DF_2022', 'years_playing', 'Global_2022', 'bio', 'top_character']\n",
            "['DF_2022', 'years_playing', 'num_games_with_top_char', 'bio', 'top_character']\n",
            "['DF_2022', 'win_rate', 'Global_2022', 'num_games_with_top_char', 'bio']\n",
            "['DF_2022', 'win_rate', 'Global_2022', 'num_games_with_top_char', 'top_character']\n",
            "['DF_2022', 'win_rate', 'Global_2022', 'bio', 'top_character']\n",
            "['DF_2022', 'win_rate', 'num_games_with_top_char', 'bio', 'top_character']\n",
            "['DF_2022', 'Global_2022', 'num_games_with_top_char', 'bio', 'top_character']\n",
            "['age', 'years_playing', 'win_rate', 'Global_2022', 'num_games_with_top_char']\n",
            "['age', 'years_playing', 'win_rate', 'Global_2022', 'bio']\n",
            "['age', 'years_playing', 'win_rate', 'Global_2022', 'top_character']\n",
            "['age', 'years_playing', 'win_rate', 'num_games_with_top_char', 'bio']\n",
            "['age', 'years_playing', 'win_rate', 'num_games_with_top_char', 'top_character']\n",
            "['age', 'years_playing', 'win_rate', 'bio', 'top_character']\n",
            "['age', 'years_playing', 'Global_2022', 'num_games_with_top_char', 'bio']\n",
            "['age', 'years_playing', 'Global_2022', 'num_games_with_top_char', 'top_character']\n",
            "['age', 'years_playing', 'Global_2022', 'bio', 'top_character']\n",
            "['age', 'years_playing', 'num_games_with_top_char', 'bio', 'top_character']\n",
            "['age', 'win_rate', 'Global_2022', 'num_games_with_top_char', 'bio']\n",
            "['age', 'win_rate', 'Global_2022', 'num_games_with_top_char', 'top_character']\n",
            "['age', 'win_rate', 'Global_2022', 'bio', 'top_character']\n",
            "['age', 'win_rate', 'num_games_with_top_char', 'bio', 'top_character']\n",
            "['age', 'Global_2022', 'num_games_with_top_char', 'bio', 'top_character']\n",
            "['years_playing', 'win_rate', 'Global_2022', 'num_games_with_top_char', 'bio']\n",
            "['years_playing', 'win_rate', 'Global_2022', 'num_games_with_top_char', 'top_character']\n",
            "['years_playing', 'win_rate', 'Global_2022', 'bio', 'top_character']\n",
            "['years_playing', 'win_rate', 'num_games_with_top_char', 'bio', 'top_character']\n",
            "['years_playing', 'Global_2022', 'num_games_with_top_char', 'bio', 'top_character']\n",
            "['win_rate', 'Global_2022', 'num_games_with_top_char', 'bio', 'top_character']\n",
            "['DF_2022', 'age', 'years_playing', 'win_rate', 'Global_2022', 'num_games_with_top_char']\n",
            "['DF_2022', 'age', 'years_playing', 'win_rate', 'Global_2022', 'bio']\n",
            "['DF_2022', 'age', 'years_playing', 'win_rate', 'Global_2022', 'top_character']\n",
            "['DF_2022', 'age', 'years_playing', 'win_rate', 'num_games_with_top_char', 'bio']\n",
            "['DF_2022', 'age', 'years_playing', 'win_rate', 'num_games_with_top_char', 'top_character']\n",
            "['DF_2022', 'age', 'years_playing', 'win_rate', 'bio', 'top_character']\n",
            "['DF_2022', 'age', 'years_playing', 'Global_2022', 'num_games_with_top_char', 'bio']\n",
            "['DF_2022', 'age', 'years_playing', 'Global_2022', 'num_games_with_top_char', 'top_character']\n",
            "['DF_2022', 'age', 'years_playing', 'Global_2022', 'bio', 'top_character']\n",
            "['DF_2022', 'age', 'years_playing', 'num_games_with_top_char', 'bio', 'top_character']\n",
            "['DF_2022', 'age', 'win_rate', 'Global_2022', 'num_games_with_top_char', 'bio']\n",
            "['DF_2022', 'age', 'win_rate', 'Global_2022', 'num_games_with_top_char', 'top_character']\n",
            "['DF_2022', 'age', 'win_rate', 'Global_2022', 'bio', 'top_character']\n",
            "['DF_2022', 'age', 'win_rate', 'num_games_with_top_char', 'bio', 'top_character']\n",
            "['DF_2022', 'age', 'Global_2022', 'num_games_with_top_char', 'bio', 'top_character']\n",
            "['DF_2022', 'years_playing', 'win_rate', 'Global_2022', 'num_games_with_top_char', 'bio']\n",
            "['DF_2022', 'years_playing', 'win_rate', 'Global_2022', 'num_games_with_top_char', 'top_character']\n",
            "['DF_2022', 'years_playing', 'win_rate', 'Global_2022', 'bio', 'top_character']\n",
            "['DF_2022', 'years_playing', 'win_rate', 'num_games_with_top_char', 'bio', 'top_character']\n",
            "['DF_2022', 'years_playing', 'Global_2022', 'num_games_with_top_char', 'bio', 'top_character']\n",
            "['DF_2022', 'win_rate', 'Global_2022', 'num_games_with_top_char', 'bio', 'top_character']\n",
            "['age', 'years_playing', 'win_rate', 'Global_2022', 'num_games_with_top_char', 'bio']\n",
            "['age', 'years_playing', 'win_rate', 'Global_2022', 'num_games_with_top_char', 'top_character']\n",
            "['age', 'years_playing', 'win_rate', 'Global_2022', 'bio', 'top_character']\n",
            "['age', 'years_playing', 'win_rate', 'num_games_with_top_char', 'bio', 'top_character']\n",
            "['age', 'years_playing', 'Global_2022', 'num_games_with_top_char', 'bio', 'top_character']\n",
            "['age', 'win_rate', 'Global_2022', 'num_games_with_top_char', 'bio', 'top_character']\n",
            "['years_playing', 'win_rate', 'Global_2022', 'num_games_with_top_char', 'bio', 'top_character']\n",
            "['DF_2022', 'age', 'years_playing', 'win_rate', 'Global_2022', 'num_games_with_top_char', 'bio']\n",
            "['DF_2022', 'age', 'years_playing', 'win_rate', 'Global_2022', 'num_games_with_top_char', 'top_character']\n",
            "['DF_2022', 'age', 'years_playing', 'win_rate', 'Global_2022', 'bio', 'top_character']\n",
            "['DF_2022', 'age', 'years_playing', 'win_rate', 'num_games_with_top_char', 'bio', 'top_character']\n",
            "['DF_2022', 'age', 'years_playing', 'Global_2022', 'num_games_with_top_char', 'bio', 'top_character']\n",
            "['DF_2022', 'age', 'win_rate', 'Global_2022', 'num_games_with_top_char', 'bio', 'top_character']\n",
            "['DF_2022', 'years_playing', 'win_rate', 'Global_2022', 'num_games_with_top_char', 'bio', 'top_character']\n",
            "['age', 'years_playing', 'win_rate', 'Global_2022', 'num_games_with_top_char', 'bio', 'top_character']\n",
            "All done\n"
          ]
        }
      ]
    },
    {
      "cell_type": "code",
      "source": [
        "for col in result.columns:\n",
        "  print(col)\n",
        "  print(result[col].idxmin() + \" , \" + str(result[col].min()))\n",
        "  print(\" \")\n",
        "print(\"This graph shows the absolute mean errors for each model, note that the linear model is left out becuase it has such high mean absolute error.\")\n",
        "result[['BAE' , 'MONKE' , 'KNN']].plot(kind='line' , use_index = False)"
      ],
      "metadata": {
        "colab": {
          "base_uri": "https://localhost:8080/",
          "height": 680
        },
        "id": "UsCb1lBM0OF7",
        "outputId": "0bddba11-3aeb-40dd-bdf7-04770d78f338"
      },
      "execution_count": null,
      "outputs": [
        {
          "output_type": "stream",
          "name": "stdout",
          "text": [
            "KNN\n",
            "['DF_2022', 'win_rate', 'Global_2022', 'num_games_with_top_char', 'bio', 'top_character'] , 684.465\n",
            " \n",
            "BAE\n",
            "['DF_2022', 'years_playing', 'bio', 'top_character'] , 698.3266069503826\n",
            " \n",
            "LIN\n",
            "['DF_2022', 'years_playing', 'num_games_with_top_char'] , 843.8905156922543\n",
            " \n",
            "MONKE\n",
            "['age', 'years_playing', 'Global_2022', 'num_games_with_top_char', 'top_character'] , 356.91249999999997\n",
            " \n",
            "This graph shows the absolute mean errors for each model, note that the linear model is left out becuase it has such high mean absolute error\n"
          ]
        },
        {
          "output_type": "execute_result",
          "data": {
            "text/plain": [
              "<Axes: >"
            ]
          },
          "metadata": {},
          "execution_count": 8
        },
        {
          "output_type": "display_data",
          "data": {
            "text/plain": [
              "<Figure size 640x480 with 1 Axes>"
            ],
            "image/png": "[encoded data removed]"
          },
          "metadata": {}
        }
      ]
    },
    {
      "cell_type": "markdown",
      "source": [
        "From the analysis of the parameters, it seems that the best two models are the KNN model and the Decision Tree regression models, For the KNN model, the features used are 'DF_2022', 'win_rate', 'Global_2022', 'num_games_with_top_char', 'bio', and 'top_character'. For the Decision Tree regression model, the features used are 'age', 'Global_2022', 'num_games_with_top_char', 'bio', and 'top_character'. From the graph of the absolute mean errors for each model, it does appear that the Decision Tree regressor performs much better no matter what features are being used. Despite this, the KNN model will still be tuned."
      ],
      "metadata": {
        "id": "zV8VRNgP0Rqz"
      }
    },
    {
      "cell_type": "markdown",
      "source": [
        "# Hyperparameter Tuning"
      ],
      "metadata": {
        "id": "W6mpROiG0SNw"
      }
    },
    {
      "cell_type": "markdown",
      "source": [
        "With the parameters and potential models selected, some of the hyperparameters can be narrowed down."
      ],
      "metadata": {
        "id": "2mExhGNp0Xbd"
      }
    },
    {
      "cell_type": "code",
      "source": [
        "#Tuning Hyperparameters for the decesion tree\n",
        "\n",
        "#Attempt 1\n",
        "MONKE = DecisionTreeRegressor()\n",
        "col_transformer = make_column_transformer((StandardScaler(with_mean=False) , ['age' , 'Global_2022' , 'num_games_with_top_char']) , (OneHotEncoder(sparse_output=False,handle_unknown='ignore'),['top_character']) , (TfidfVectorizer(stop_words='english'),'bio'))\n",
        "MONKE_PIPE = make_pipeline(col_transformer , MONKE)\n",
        "x = data_with_df[['age' , 'Global_2022' , 'num_games_with_top_char','top_character','bio']]\n",
        "y = data_with_df[['Df_2023']]\n",
        "score = cross_val_score(MONKE_PIPE , X=x, y=y,cv=100 , scoring = 'neg_mean_absolute_error')\n",
        "print(\"Hyperparameters: with_mean=False | handle_unknown='ignore' | stop_words='english'\")\n",
        "print(-score.mean())\n",
        "\n",
        "print(\"\\n\")\n",
        "\n",
        "#Attempt 2\n",
        "MONKE = DecisionTreeRegressor(criterion='friedman_mse')\n",
        "col_transformer = make_column_transformer((StandardScaler(with_std=False) , ['age' , 'Global_2022' , 'num_games_with_top_char']) , (OneHotEncoder(sparse_output=False,handle_unknown='ignore'),['top_character']) , (TfidfVectorizer(stop_words='english'),'bio'))\n",
        "MONKE_PIPE = make_pipeline(col_transformer , MONKE)\n",
        "x = data_with_df[['age' , 'Global_2022' , 'num_games_with_top_char','top_character','bio']]\n",
        "y = data_with_df[['Df_2023']]\n",
        "score = cross_val_score(MONKE_PIPE , X=x, y=y,cv=100 , scoring = 'neg_mean_absolute_error')\n",
        "print(\"Hyperparameters: criterion='friedman_mse' | with_std=False | handle_unknown='ignore' | stop_words='english'\")\n",
        "print(-score.mean())\n",
        "\n",
        "print(\"\\n\")\n",
        "\n",
        "#Attempt 3\n",
        "MONKE = DecisionTreeRegressor(criterion='absolute_error')\n",
        "col_transformer = make_column_transformer((StandardScaler() , ['age' , 'Global_2022' , 'num_games_with_top_char']) , (OneHotEncoder(sparse_output=False,handle_unknown='ignore'),['top_character']) , (TfidfVectorizer(stop_words='english'),'bio'))\n",
        "MONKE_PIPE = make_pipeline(col_transformer , MONKE)\n",
        "x = data_with_df[['age' , 'Global_2022' , 'num_games_with_top_char','top_character','bio']]\n",
        "y = data_with_df[['Df_2023']]\n",
        "score = cross_val_score(MONKE_PIPE , X=x, y=y,cv=100 , scoring = 'neg_mean_absolute_error')\n",
        "print(\"Hyperparameters: criterion='absolute_error' | handle_unknown='ignore' | stop_words='english'\")\n",
        "print(-score.mean())\n",
        "\n",
        "print(\"\\n\")\n",
        "\n",
        "#Attempt 4\n",
        "MONKE = DecisionTreeRegressor(criterion = \"poisson\")\n",
        "col_transformer = make_column_transformer((StandardScaler(with_mean=False) , ['age' , 'Global_2022' , 'num_games_with_top_char']) , (OneHotEncoder(sparse_output=False,handle_unknown='ignore'),['top_character']) , (TfidfVectorizer(stop_words='english'),'bio'))\n",
        "MONKE_PIPE = make_pipeline(col_transformer , MONKE)\n",
        "x = data_with_df[['age' , 'Global_2022' , 'num_games_with_top_char','top_character','bio']]\n",
        "y = data_with_df[['Df_2023']]\n",
        "score = cross_val_score(MONKE_PIPE , X=x, y=y,cv=100 , scoring = 'neg_mean_absolute_error')\n",
        "print(\"Hyperparameters: criterion = poisson | with_mean=False | with_std=False | handle_unknown='ignore' | stop_words='english' | \")\n",
        "print(-score.mean())"
      ],
      "metadata": {
        "colab": {
          "base_uri": "https://localhost:8080/"
        },
        "id": "hv8I896B0Uiz",
        "outputId": "5bb98d58-6227-4858-f67b-1efecf19e39f"
      },
      "execution_count": null,
      "outputs": [
        {
          "output_type": "stream",
          "name": "stdout",
          "text": [
            "Hyperparameters: with_mean=False | handle_unknown='ignore' | stop_words='english'\n",
            "319.79\n",
            "\n",
            "\n",
            "Hyperparameters: criterion='friedman_mse' | with_std=False | handle_unknown='ignore' | stop_words='english'\n",
            "313.18000000000006\n",
            "\n",
            "\n",
            "Hyperparameters: criterion='absolute_error' | handle_unknown='ignore' | stop_words='english'\n",
            "422.0366666666667\n",
            "\n",
            "\n",
            "Hyperparameters: criterion = poisson | with_mean=False | with_std=False | handle_unknown='ignore' | stop_words='english' | \n",
            "346.735\n"
          ]
        }
      ]
    },
    {
      "cell_type": "code",
      "source": [
        "#Tuning knn\n",
        "\n",
        "col_transformer = make_column_transformer((StandardScaler(with_mean = False ) , ['Global_2022' , 'DF_2022' , 'win_rate' , 'num_games_with_top_char']) , (OneHotEncoder(sparse_output=False,handle_unknown='ignore'),['top_character']) , (TfidfVectorizer(stop_words='english'),'bio'))\n",
        "dict_results = {}\n",
        "for k in range(1,50):\n",
        "  KNN = Knn = KNeighborsRegressor(n_neighbors =  k)\n",
        "  KNN_Pipe = make_pipeline(col_transformer , KNN)\n",
        "  x = data_with_df[['DF_2022', 'win_rate', 'Global_2022', 'num_games_with_top_char', 'bio', 'top_character']]\n",
        "  y = data_with_df[['Df_2023']]\n",
        "  score = cross_val_score(KNN_Pipe , X = x , y=y ,cv=10 ,scoring = 'neg_mean_absolute_error')\n",
        "  dict_results[k] = -score.mean()\n",
        "print(\"Hyperparameters: with_mean=False | handle_unknown='ignore' | stop_words = 'english\")\n",
        "result = pd.Series(dict_results)\n",
        "print(result.idxmin())\n",
        "print(result.min())\n",
        "result.plot(kind='line')\n"
      ],
      "metadata": {
        "colab": {
          "base_uri": "https://localhost:8080/",
          "height": 501
        },
        "id": "qtM7lSpX0aCY",
        "outputId": "d82f9721-a422-450b-a501-0cf6fe61953e"
      },
      "execution_count": null,
      "outputs": [
        {
          "output_type": "stream",
          "name": "stdout",
          "text": [
            "Hyperparameters: with_mean=False | handle_unknown='ignore' | stop_words = 'english\n",
            "1\n",
            "386.6916666666667\n"
          ]
        },
        {
          "output_type": "execute_result",
          "data": {
            "text/plain": [
              "<Axes: >"
            ]
          },
          "metadata": {},
          "execution_count": 10
        },
        {
          "output_type": "display_data",
          "data": {
            "text/plain": [
              "<Figure size 640x480 with 1 Axes>"
            ],
            "image/png": "[encoded data removed]"
          },
          "metadata": {}
        }
      ]
    },
    {
      "cell_type": "markdown",
      "source": [
        "After tuning the hyperparameters for both the KNN model and the Decision Tree model, the lowest mean absolute error found is around 300. Considering the small sample size, and the many NaNs in the data, this MAE score is good. Because the Decision Tree model outperformed the KNN model, it will be used as the final model."
      ],
      "metadata": {
        "id": "hPOa2gLD0dIV"
      }
    },
    {
      "cell_type": "markdown",
      "source": [
        "# Final Model"
      ],
      "metadata": {
        "id": "LZAYOzh-0gLl"
      }
    },
    {
      "cell_type": "markdown",
      "source": [
        "Thus, the final model used to predict 2023 'DF' scores is a Decision Tree Regressor model using the features:\n",
        "- age\n",
        "- Global_2022\n",
        "- num_games_with_top_char\n",
        "- top_character\n",
        "- bio\n",
        "\n",
        "The hyperparameters set for this model include:\n",
        "\n",
        "- criterion='friedman_mse' for the Decision Tree\n",
        "- with_std=False for the Standard Scaler\n",
        "- handle_unknown='ignore' for the Dummy Encoder\n",
        "- stop_words='english' for the TFIDF Vectorizer\n",
        "With a model selected, a prediction can be made about a player's 'DF' score given the below features. Note that the user could also guestimate some of the values, such as win rate, to utilize the model.\n",
        " - age\n",
        " - 2022 global ranking\n",
        " - number of games with their main character\n",
        " - their main character\n",
        " - a short description of their achievements/gameplay\n",
        "\n",
        "The 2022 global ranking may seem like a bit of an odd choice given that the model is supposed to help amateur players understand their ranking in comparison with the pros. However, in the training data, a total of 95 of the points had NaN global 2022 rankings. Those without a global ranking had their values filled with 500. In the actual application of the model, the global 2022 ranking can be set to 500 automatically if the user argues unknown.\n"
      ],
      "metadata": {
        "id": "IBzUxHUA0fj4"
      }
    },
    {
      "cell_type": "markdown",
      "source": [
        "# Example Predictions"
      ],
      "metadata": {
        "id": "YrotKL6u0kUy"
      }
    },
    {
      "cell_type": "markdown",
      "source": [
        "Below, a simple method is created that predicts the 2023 'DF' scores for all players in the dataset without one. Just after that is an example of how an amateur player could use the model to understand their performance in comparison with the pros. Both of these outputs are simply examples of how the model could be applied in practice."
      ],
      "metadata": {
        "id": "aNuhuZ0o0lDY"
      }
    },
    {
      "cell_type": "code",
      "source": [
        "#This method makes the prediction\n",
        "def predict(info):\n",
        "  MONKE = DecisionTreeRegressor()\n",
        "  col_transformer = make_column_transformer((StandardScaler(with_mean=False) , ['age' , 'Global_2022' , 'num_games_with_top_char']) , (OneHotEncoder(sparse_output=False,handle_unknown='ignore'),['top_character']) , (TfidfVectorizer(stop_words='english'),'bio'))\n",
        "  MONKE_PIPE = make_pipeline(col_transformer , MONKE)\n",
        "  x = data_with_df[['age' , 'Global_2022' , 'num_games_with_top_char','top_character','bio']]\n",
        "  y = data_with_df[['Df_2023']]\n",
        "  MONKE_PIPE.fit(x,y)\n",
        "  return MONKE_PIPE.predict(info)\n",
        "\n",
        "#This is an example of using the model to predict the 2023 'DF' scores using the players without this score in the dataset.\n",
        "predict_me_df = data[data['Df_2023'] == 0][['age' , 'Global_2022' , 'num_games_with_top_char','top_character','bio']]\n",
        "print(\"Predictions for the unknown 2023 'DF' scores in the model\")\n",
        "print(predict(predict_me_df))\n"
      ],
      "metadata": {
        "colab": {
          "base_uri": "https://localhost:8080/"
        },
        "id": "knuu_JrS0oy3",
        "outputId": "52f50054-81a9-4647-d306-d81177aeaeb7"
      },
      "execution_count": null,
      "outputs": [
        {
          "output_type": "stream",
          "name": "stdout",
          "text": [
            "Predictions for the unknown 2023 'DF' scores in the model\n",
            "[ 390.  325.  325.  780.  325.  102.  325.  780.  150.  325.  150.  780.\n",
            "  500.  325.  102.  325.  325. 2423. 2423.  325.  325.  878.  390.  234.\n",
            "  325.  320.  325.  325.  325.  974.  325.  974.  325.  325.  325.  325.\n",
            "  320. 1093.  325.  325. 2423. 2423. 1217.  325.  325.  195.  390. 2657.\n",
            " 1093.  325.  325.  325. 1217.  325. 7190.  320.  325.  325.  195. 1093.\n",
            " 2047. 3811. 2047.  942.  325.  340.   85.  107.   85.  325.  195.  325.\n",
            "  150.  320.  325.  821.  325.  107.  195.  179. 2423. 1368.  325.  325.\n",
            "  150.  974.  150. 4000.  234.  390.  325.  179.  234.   85.  320.  320.\n",
            "  974.  325.  195.  325.  574.  320. 1093.  150.  325.  325.  325.  325.\n",
            "  340. 2423.  325. 1125. 1093.  942.  390.  325.  325.  325. 2047.   85.\n",
            " 1093.  390.  974.  390.  500. 1093. 4000. 2423.   85.   85.  649. 1603.\n",
            "  500.  325.  448.  325. 2423.  170.  195.  500.  150.  500.  500. 1093.\n",
            "  150.   85.  107.  325.  320.  325.  325.  454. 4000.  325.  390.  325.\n",
            "  234. 1093.  150.  107.  325.  389.  325.  325. 2423.  325.  500.  150.\n",
            "  325.  325.  325.  500.  500.  107.  107.  500.  195.  325.   85.  107.\n",
            "  500.  500.  325. 2423. 4310. 1093. 2047.  320.  400.  821.  942.   85.\n",
            "  821.  234.   85. 4310.  583.  574.  500.  500.  325. 2423.  150.  150.\n",
            "  500. 2423.  821.  150. 2423.  102.  643.  574.  107.  400.   85.  500.\n",
            "  583.  583.  500.  345.  780.  578.  195.   85.  170. 1093.   85.   85.\n",
            "  325.  325. 1093.  345.  583.  107.  320.  500.   85.  325. 1093.  448.\n",
            " 1093.  583.   85. 1093.  129.  150.  170. 2423.  170.   85.  649. 1603.\n",
            "  500.  325.  448.  325. 2423.  170.  195.  500.  150.  500.  500. 1093.\n",
            "  150.   85.  107.  325.  320.  325.  325.  454. 4000.  325.  390.  325.\n",
            "  234. 1093.  150.  107.  325.  389.  325.  325. 2423.  325.  500.  150.\n",
            "  325.  325.  325.  500.  500.  107.  107.  500.  195.  325.   85.  107.\n",
            "  500.  500.  325. 2423. 4310. 1093. 2047.  320.  400.  821.  942.   85.\n",
            "  821.  234.   85. 4310.  583.  574.  500.  500.  325. 2423.  150.  150.\n",
            "  500. 2423.  821.  150. 2423.  102.  643.  574.  107.  400.   85.  500.\n",
            "  583.  583.  500.  345.  780.  578.  195.   85.  170. 1093.   85.   85.\n",
            "  325.  325. 1093.  345.  583.  107.  320.  500.   85.  325. 1093.  448.\n",
            " 1093.  583.   85. 1093.  129.  150.  170. 2423.  170.   85.  649. 1603.\n",
            "  500.  325.  448.  325. 2423.  170.  195.  500.  150.  500.  500. 1093.\n",
            "  150.   85.  107.  325.  320.  325.  325.  454. 4000.  325.  390.  325.\n",
            "  234. 1093.  150.  107.  325.  389.  325.  325. 2423.  325.  500.  150.\n",
            "  325.  325.  325.  500.  500.  107.  107.  500.  195.  325.   85.  107.\n",
            "  500.  500.  325. 2423. 4310. 1093. 2047.  320.  400.  821.  942.   85.\n",
            "  821.  234.   85. 4310.  583.  574.  500.  500.  325. 2423.  150.  150.\n",
            "  500. 2423.  821.  150. 2423.  102.  643.  574.  107.  400.   85.  500.\n",
            "  583.  583.  500.  345.  780.  578.  195.   85.  170. 1093.   85.   85.\n",
            "  325.  325. 1093.  345.  583.  107.  320.  500.   85.  325. 1093.  448.\n",
            " 1093.  583.   85. 1093.  129.  150.  170. 2423.  170.  500.  234.  821.\n",
            "  214.   85.  170.  195.  320.   85.  325.   85.  500.  130.  325.  150.\n",
            " 1093.  150.  170.  320.  574.  500.  234.  500.  500. 1093.  649.  320.\n",
            "  500.  325.  102.  107.  107.  802.  325.  583.  325.  325.  195. 1093.\n",
            "  107.  500.  500. 2047.  974.  974.  500.  583.  150.  430.  325.  802.\n",
            "  500.  320.  325.  500.  500.  325. 2000.  499. 2423.  325.  320.  325.\n",
            "  150.  500.  325.  974.  802.  325.  325.  400. 2423.  320.  400.  578.\n",
            "  195. 2423.  325.  325. 2047.   85.  500.  325.  583.  325.  325.  583.\n",
            " 1093.  974.  821.  325. 1093.  325.  500.  664.  107.   85.   85.  325.\n",
            "  325.  390.  129.  325.  345.  107.  320.  325.  500. 4000.  325.  583.\n",
            "  500.  802.  500.  325.  802.  390.  325.  325.  320.  150.  325.  500.\n",
            " 1093. 2423.  320.  325.  780.  340.  500. 1093.  325.  325.  325.  325.\n",
            " 1630.  320.  325.  325.  500.  345.  942.  974.  325.  802.  130.  325.\n",
            "  320.  320.  500.  400.  325.  974. 1093.  325.  500.  430.  150.  500.\n",
            " 1630. 1093.   85.  325.   85.  195.   85.  974. 2423.   85.  500.  195.\n",
            "  325.  649.  325. 1031.   85.  325.  325.  107.  320.   85.  320.   85.\n",
            " 2047.  664. 1093.  390.  325.  325. 2423.  474.  102.  325.   85.  325.\n",
            "  320.  974.  974.  325. 2047.  325.  170.  325.   85. 2047.  400. 1093.\n",
            "  214.  325.   85.  325.  340. 7190.  234.  325.  195.  150.  195.  320.\n",
            "  107.  107.  942.  390.   85.  195. 1093. 2423.  325.  325.  150.   85.\n",
            " 2423.  345. 1368.   85.  325.  400.  320.  345.  821.  325.  320.  325.\n",
            "  325.  821.  325.  150.  107.  195.  179.  320.  325.  195.  821.  345.\n",
            "  325.   85.  195. 2423.  195.  150.  195.  325.  195.   85.  150.  325.\n",
            "  179.   85.  325.  150.  150.  195.  150.  325.   85.  150.  325.  320.\n",
            "  179.  325.  320. 2423.  325.  325.  320.  340.  320.  340.  974.  325.\n",
            "  345.  195.  195.  150.  325.  195.  107.  325.   85.  325.  320.  195.\n",
            "  320.  325. 1093.  821. 2423. 1093.  195.  974. 1093.  107. 1093.  150.\n",
            "  320.  821.  150.  179.  325.  150.  325.  325.  325.  150.  320.   85.\n",
            "  325.  325.  320.  325.]\n"
          ]
        }
      ]
    },
    {
      "cell_type": "code",
      "source": [
        "#Example Prediction\n",
        "\n",
        "#Information about the user\n",
        "name = \"Jeff\"\n",
        "age = 18\n",
        "last_years_ranking = 500\n",
        "games_with_favorite_character = 100\n",
        "top_character = \"Ice Climbers\"\n",
        "bio = \"I am a new player who has only played in a few tournaments. I won my school smash ultimate tournament, and I beat my friends regularly.\"\n",
        "\n",
        "#Making the prediction\n",
        "predict_me = pd.DataFrame(columns = ['age' , 'Global_2022' , 'num_games_with_top_char','top_character','bio'])\n",
        "predict_me.loc[name] = [age,last_years_ranking,games_with_favorite_character,top_character,bio]\n",
        "print(\"Prediction for Jeff\")\n",
        "print(predict(predict_me)[0])\n"
      ],
      "metadata": {
        "colab": {
          "base_uri": "https://localhost:8080/"
        },
        "id": "LDNoCSqZ0pQW",
        "outputId": "29dce342-879a-4638-d91d-534886ad05b5"
      },
      "execution_count": null,
      "outputs": [
        {
          "output_type": "stream",
          "name": "stdout",
          "text": [
            "Prediction for Jeff\n",
            "325.0\n"
          ]
        }
      ]
    },
    {
      "cell_type": "markdown",
      "source": [
        "# **Conclusion**"
      ],
      "metadata": {
        "id": "lriYn-hN0sKo"
      }
    },
    {
      "cell_type": "markdown",
      "source": [
        "From the analysis portion, we found many relationships between players' attributes and their respective 2023 'DF' scores. For the amateur player seeking to improve their game, the most important relationship we found was that simply playing more with your main character is moderately, and significantly, correlated with a higher 'DF' score. This held true both for winning and losing with the main character. As such, we would recommend that players try to focus on their main and stay dedicated to the challenge, as they will improve no matter win or lose. Further, we found that the difference in mean \"DF\" scores between groups that have been playing for all but the longest time, here meaning more than ten years, are very similar. As such, we would recommend that players trying to improve not be discouraged by the fear that they are joining the game too late. This is because, as it turns out, there is really only a significant influence on the 'DF' score after at least ten years of play."
      ],
      "metadata": {
        "id": "AeNOhxbg0vZV"
      }
    },
    {
      "cell_type": "markdown",
      "source": [
        "From the machine learning portion, we found that the best model to predict the 2023 'DF' score is a Decision Tree Regressor model. This model uses the features, 'age', 'Global_2022', 'num_games_with_top_char', 'top_character', and bio to predict the 2023 'DF' score. After messing with some of the hyperparameters, we were able to get the AME for this model down to around 300. Considering the small sample size, and many NaNs in the data, this error was deemed acceptable. This model can be used by amateur players to guesstimate how they should be ranking, in comparison to other players. Hopefully, such a model will help amateur players set a benchmark for them to beat in future years."
      ],
      "metadata": {
        "id": "whjAxyKN0xnE"
      }
    },
    {
      "cell_type": "markdown",
      "source": [
        "Finally, for future analysis, we would recommend approaching the problem as an unclassified ML issue. Clustering techniques could lead to interesting discoveries on what makes an elite fighting game athlete."
      ],
      "metadata": {
        "id": "aEcx8Ml10ziE"
      }
    }
  ]
}